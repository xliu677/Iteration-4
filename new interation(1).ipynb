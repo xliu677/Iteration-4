{
 "cells": [
  {
   "cell_type": "code",
   "execution_count": 1,
   "metadata": {},
   "outputs": [],
   "source": [
    "import findspark\n",
    "findspark.init(\"/home/ubuntu/spark-2.1.1-bin-hadoop2.7\")\n",
    "import pyspark\n",
    "from pyspark.sql import SparkSession\n",
    "spark = SparkSession.builder.appName(\"xliu677_722\").getOrCreate()"
   ]
  },
  {
   "cell_type": "code",
   "execution_count": 51,
   "metadata": {},
   "outputs": [],
   "source": [
    "from pyspark.sql import *\n",
    "from pyspark.sql.types import *\n",
    "from pyspark.sql.functions import col, isnan, isnull, when, count, mean, trim, log10\n",
    "from IPython.display import display\n",
    "# pandas\n",
    "import pandas as pd\n",
    "import matplotlib.pyplot as plt\n",
    "def display_null_values(df):\n",
    "    print(\"----------------Null values----------------\") \n",
    "    df_to_pandas = df.toPandas()\n",
    "    selected_null_values = df.select([count(when(isnan(c) | isnull(c), c)).alias(c) for c in df.columns]\n",
    "        ).toPandas()\n",
    "    display(selected_null_values.transpose())\n",
    "    print(\"----------------End----------------\")\n",
    "def display_total_number_rows(df):\n",
    "    print(\"--->Total number of rows: %s\" % df.count())"
   ]
  },
  {
   "cell_type": "code",
   "execution_count": 3,
   "metadata": {},
   "outputs": [],
   "source": [
    "education = spark.read.load(\"./datasets/tertiary_education.csv\",format =\"csv\",header=\"true\")"
   ]
  },
  {
   "cell_type": "code",
   "execution_count": 4,
   "metadata": {},
   "outputs": [
    {
     "name": "stdout",
     "output_type": "stream",
     "text": [
      "----------------Null values----------------\n"
     ]
    },
    {
     "data": {
      "text/html": [
       "<div>\n",
       "<style scoped>\n",
       "    .dataframe tbody tr th:only-of-type {\n",
       "        vertical-align: middle;\n",
       "    }\n",
       "\n",
       "    .dataframe tbody tr th {\n",
       "        vertical-align: top;\n",
       "    }\n",
       "\n",
       "    .dataframe thead th {\n",
       "        text-align: right;\n",
       "    }\n",
       "</style>\n",
       "<table border=\"1\" class=\"dataframe\">\n",
       "  <thead>\n",
       "    <tr style=\"text-align: right;\">\n",
       "      <th></th>\n",
       "      <th>0</th>\n",
       "    </tr>\n",
       "  </thead>\n",
       "  <tbody>\n",
       "    <tr>\n",
       "      <th>LOCATION</th>\n",
       "      <td>0</td>\n",
       "    </tr>\n",
       "    <tr>\n",
       "      <th>INDICATOR</th>\n",
       "      <td>0</td>\n",
       "    </tr>\n",
       "    <tr>\n",
       "      <th>SUBJECT</th>\n",
       "      <td>0</td>\n",
       "    </tr>\n",
       "    <tr>\n",
       "      <th>MEASURE</th>\n",
       "      <td>0</td>\n",
       "    </tr>\n",
       "    <tr>\n",
       "      <th>FREQUENCY</th>\n",
       "      <td>0</td>\n",
       "    </tr>\n",
       "    <tr>\n",
       "      <th>TIME</th>\n",
       "      <td>0</td>\n",
       "    </tr>\n",
       "    <tr>\n",
       "      <th>Value</th>\n",
       "      <td>0</td>\n",
       "    </tr>\n",
       "    <tr>\n",
       "      <th>Flag Codes</th>\n",
       "      <td>2968</td>\n",
       "    </tr>\n",
       "  </tbody>\n",
       "</table>\n",
       "</div>"
      ],
      "text/plain": [
       "               0\n",
       "LOCATION       0\n",
       "INDICATOR      0\n",
       "SUBJECT        0\n",
       "MEASURE        0\n",
       "FREQUENCY      0\n",
       "TIME           0\n",
       "Value          0\n",
       "Flag Codes  2968"
      ]
     },
     "metadata": {},
     "output_type": "display_data"
    },
    {
     "name": "stdout",
     "output_type": "stream",
     "text": [
      "----------------End----------------\n"
     ]
    }
   ],
   "source": [
    "display_null_values(education)"
   ]
  },
  {
   "cell_type": "code",
   "execution_count": 5,
   "metadata": {},
   "outputs": [
    {
     "name": "stdout",
     "output_type": "stream",
     "text": [
      "DataFrame[Country: string, Date: string, Year: string, abc: string]\n",
      "+-----------+--------+----+--------+\n",
      "|    Country|    Date|Year|     abc|\n",
      "+-----------+--------+----+--------+\n",
      "|Afghanistan|1/1/1901|1991|  613.99|\n",
      "|Afghanistan|1/1/1906|1996|  624.04|\n",
      "|Afghanistan|1/1/1911|2001|  634.25|\n",
      "|Afghanistan|1/1/1916|2006|  647.28|\n",
      "|Afghanistan|1/1/1921|2011|   662.4|\n",
      "|Afghanistan|1/1/1926|1901|  677.87|\n",
      "|Afghanistan|1/1/1931|1906|  693.71|\n",
      "|Afghanistan|1/1/1936|1911|  709.91|\n",
      "|Afghanistan|1/1/1941|1916|  726.49|\n",
      "|Afghanistan|1/1/1946|1921|  743.46|\n",
      "|Afghanistan|1/1/1951|1926|  766.75|\n",
      "|Afghanistan|1/1/1956|1931|  837.07|\n",
      "|Afghanistan|1/1/1961|1936|  857.36|\n",
      "|Afghanistan|1/1/1966|1941|  833.61|\n",
      "|Afghanistan|1/1/1971|1946|   773.7|\n",
      "|Afghanistan|1/1/1976|1951|  866.19|\n",
      "|Afghanistan|1/1/1981|1956|  896.86|\n",
      "|Afghanistan|1/1/1986|1961|1,030.89|\n",
      "|Afghanistan|1/1/1991|1966|  705.45|\n",
      "|Afghanistan|1/1/1996|1971|  617.91|\n",
      "+-----------+--------+----+--------+\n",
      "only showing top 20 rows\n",
      "\n"
     ]
    },
    {
     "data": {
      "text/plain": [
       "4419"
      ]
     },
     "execution_count": 5,
     "metadata": {},
     "output_type": "execute_result"
    }
   ],
   "source": [
    "\n",
    "GDP = spark.read.load(\"./datasets/GDP1.csv\",format =\"csv\",header=\"true\")\n",
    "print(GDP)\n",
    "GDP.show()\n",
    "GDP.count()"
   ]
  },
  {
   "cell_type": "code",
   "execution_count": 6,
   "metadata": {},
   "outputs": [
    {
     "name": "stdout",
     "output_type": "stream",
     "text": [
      "DataFrame[LOCATION: string, INDICATOR: string, SUBJECT: string, MEASURE: string, FREQUENCY: string, TIME: string, Value: string, Flag Codes: string]\n",
      "+--------+---------+-------+-------+---------+----+-----------+----------+\n",
      "|LOCATION|INDICATOR|SUBJECT|MEASURE|FREQUENCY|TIME|      Value|Flag Codes|\n",
      "+--------+---------+-------+-------+---------+----+-----------+----------+\n",
      "|     AUS|   EDUTRY|  25_34| PC_AGE|        A|1991| 35.7075386|      null|\n",
      "|     AUS|   EDUTRY|  25_34| PC_AGE|        A|1993|22.83651733|      null|\n",
      "|     AUS|   EDUTRY|  25_34| PC_AGE|        A|1994| 23.6249485|      null|\n",
      "|     AUS|   EDUTRY|  25_34| PC_AGE|        A|1995|24.69714165|      null|\n",
      "|     AUS|   EDUTRY|  25_34| PC_AGE|        A|1997|25.70216751|      null|\n",
      "|     AUS|   EDUTRY|  25_34| PC_AGE|        A|1998|28.13957787|      null|\n",
      "|     AUS|   EDUTRY|  25_34| PC_AGE|        A|1999|28.98158646|      null|\n",
      "|     AUS|   EDUTRY|  25_34| PC_AGE|        A|2000|31.37251663|      null|\n",
      "|     AUS|   EDUTRY|  25_34| PC_AGE|        A|2001|33.51193237|      null|\n",
      "|     AUS|   EDUTRY|  25_34| PC_AGE|        A|2002|35.79733658|      null|\n",
      "|     AUS|   EDUTRY|  25_34| PC_AGE|        A|2003|36.32281494|      null|\n",
      "|     AUS|   EDUTRY|  25_34| PC_AGE|        A|2004|36.16824722|      null|\n",
      "|     AUS|   EDUTRY|  25_34| PC_AGE|        A|2005|38.09831238|      null|\n",
      "|     AUS|   EDUTRY|  25_34| PC_AGE|        A|2006|38.80412292|      null|\n",
      "|     AUS|   EDUTRY|  25_34| PC_AGE|        A|2007|40.72885513|      null|\n",
      "|     AUS|   EDUTRY|  25_34| PC_AGE|        A|2008|41.99682999|      null|\n",
      "|     AUS|   EDUTRY|  25_34| PC_AGE|        A|2009|44.77848816|      null|\n",
      "|     AUS|   EDUTRY|  25_34| PC_AGE|        A|2010|44.37483597|      null|\n",
      "|     AUS|   EDUTRY|  25_34| PC_AGE|        A|2011|44.61552811|      null|\n",
      "|     AUS|   EDUTRY|  25_34| PC_AGE|        A|2012| 47.2310791|      null|\n",
      "+--------+---------+-------+-------+---------+----+-----------+----------+\n",
      "only showing top 20 rows\n",
      "\n"
     ]
    },
    {
     "data": {
      "text/plain": [
       "2968"
      ]
     },
     "execution_count": 6,
     "metadata": {},
     "output_type": "execute_result"
    }
   ],
   "source": [
    "print(education)\n",
    "education.show()\n",
    "education.count()"
   ]
  },
  {
   "cell_type": "code",
   "execution_count": 7,
   "metadata": {},
   "outputs": [
    {
     "name": "stdout",
     "output_type": "stream",
     "text": [
      "DataFrame[LOCATION: string, TIME: string, Value: string]\n",
      "+--------+----+-----------+\n",
      "|LOCATION|TIME|      Value|\n",
      "+--------+----+-----------+\n",
      "|     AUS|1991| 35.7075386|\n",
      "|     AUS|1993|22.83651733|\n",
      "|     AUS|1994| 23.6249485|\n",
      "|     AUS|1995|24.69714165|\n",
      "|     AUS|1997|25.70216751|\n",
      "|     AUS|1998|28.13957787|\n",
      "|     AUS|1999|28.98158646|\n",
      "|     AUS|2000|31.37251663|\n",
      "|     AUS|2001|33.51193237|\n",
      "|     AUS|2002|35.79733658|\n",
      "|     AUS|2003|36.32281494|\n",
      "|     AUS|2004|36.16824722|\n",
      "|     AUS|2005|38.09831238|\n",
      "|     AUS|2006|38.80412292|\n",
      "|     AUS|2007|40.72885513|\n",
      "|     AUS|2008|41.99682999|\n",
      "|     AUS|2009|44.77848816|\n",
      "|     AUS|2010|44.37483597|\n",
      "|     AUS|2011|44.61552811|\n",
      "|     AUS|2012| 47.2310791|\n",
      "+--------+----+-----------+\n",
      "only showing top 20 rows\n",
      "\n"
     ]
    },
    {
     "data": {
      "text/plain": [
       "2968"
      ]
     },
     "execution_count": 7,
     "metadata": {},
     "output_type": "execute_result"
    }
   ],
   "source": [
    "education = education [\"LOCATION\",\"TIME\",\"Value\"]\n",
    "print(education)\n",
    "education.show()\n",
    "education.count()"
   ]
  },
  {
   "cell_type": "code",
   "execution_count": 8,
   "metadata": {},
   "outputs": [
    {
     "name": "stdout",
     "output_type": "stream",
     "text": [
      "----------------Null values----------------\n"
     ]
    },
    {
     "data": {
      "text/html": [
       "<div>\n",
       "<style scoped>\n",
       "    .dataframe tbody tr th:only-of-type {\n",
       "        vertical-align: middle;\n",
       "    }\n",
       "\n",
       "    .dataframe tbody tr th {\n",
       "        vertical-align: top;\n",
       "    }\n",
       "\n",
       "    .dataframe thead th {\n",
       "        text-align: right;\n",
       "    }\n",
       "</style>\n",
       "<table border=\"1\" class=\"dataframe\">\n",
       "  <thead>\n",
       "    <tr style=\"text-align: right;\">\n",
       "      <th></th>\n",
       "      <th>0</th>\n",
       "    </tr>\n",
       "  </thead>\n",
       "  <tbody>\n",
       "    <tr>\n",
       "      <th>Country</th>\n",
       "      <td>0</td>\n",
       "    </tr>\n",
       "    <tr>\n",
       "      <th>Date</th>\n",
       "      <td>0</td>\n",
       "    </tr>\n",
       "    <tr>\n",
       "      <th>Year</th>\n",
       "      <td>0</td>\n",
       "    </tr>\n",
       "    <tr>\n",
       "      <th>abc</th>\n",
       "      <td>0</td>\n",
       "    </tr>\n",
       "  </tbody>\n",
       "</table>\n",
       "</div>"
      ],
      "text/plain": [
       "         0\n",
       "Country  0\n",
       "Date     0\n",
       "Year     0\n",
       "abc      0"
      ]
     },
     "metadata": {},
     "output_type": "display_data"
    },
    {
     "name": "stdout",
     "output_type": "stream",
     "text": [
      "----------------End----------------\n"
     ]
    }
   ],
   "source": [
    "display_null_values(GDP)"
   ]
  },
  {
   "cell_type": "code",
   "execution_count": 9,
   "metadata": {},
   "outputs": [
    {
     "name": "stdout",
     "output_type": "stream",
     "text": [
      "DataFrame[Country: string, Year: string, abc: string]\n",
      "+-----------+----+--------+\n",
      "|    Country|Year|     abc|\n",
      "+-----------+----+--------+\n",
      "|Afghanistan|1991|  613.99|\n",
      "|Afghanistan|1996|  624.04|\n",
      "|Afghanistan|2001|  634.25|\n",
      "|Afghanistan|2006|  647.28|\n",
      "|Afghanistan|2011|   662.4|\n",
      "|Afghanistan|1901|  677.87|\n",
      "|Afghanistan|1906|  693.71|\n",
      "|Afghanistan|1911|  709.91|\n",
      "|Afghanistan|1916|  726.49|\n",
      "|Afghanistan|1921|  743.46|\n",
      "|Afghanistan|1926|  766.75|\n",
      "|Afghanistan|1931|  837.07|\n",
      "|Afghanistan|1936|  857.36|\n",
      "|Afghanistan|1941|  833.61|\n",
      "|Afghanistan|1946|   773.7|\n",
      "|Afghanistan|1951|  866.19|\n",
      "|Afghanistan|1956|  896.86|\n",
      "|Afghanistan|1961|1,030.89|\n",
      "|Afghanistan|1966|  705.45|\n",
      "|Afghanistan|1971|  617.91|\n",
      "+-----------+----+--------+\n",
      "only showing top 20 rows\n",
      "\n"
     ]
    },
    {
     "data": {
      "text/plain": [
       "4419"
      ]
     },
     "execution_count": 9,
     "metadata": {},
     "output_type": "execute_result"
    }
   ],
   "source": [
    "GDP = GDP [\"Country\",\"Year\",\"abc\"]\n",
    "print(GDP)\n",
    "GDP.show()\n",
    "GDP.count()"
   ]
  },
  {
   "cell_type": "code",
   "execution_count": 10,
   "metadata": {},
   "outputs": [
    {
     "name": "stdout",
     "output_type": "stream",
     "text": [
      "root\n",
      " |-- LOCATION: string (nullable = true)\n",
      " |-- TIME: integer (nullable = true)\n",
      " |-- Value: float (nullable = true)\n",
      "\n",
      "+----+---------+-------------+--------------+\n",
      "|TIME|    Value|TIME_outliers|Value_outliers|\n",
      "+----+---------+-------------+--------------+\n",
      "|1991| 35.70754|        false|         false|\n",
      "|1993|22.836517|        false|         false|\n",
      "|1994|23.624949|        false|         false|\n",
      "|1995|24.697142|        false|         false|\n",
      "|1997|25.702168|        false|         false|\n",
      "|1998|28.139578|        false|         false|\n",
      "|1999|28.981586|        false|         false|\n",
      "|2000|31.372517|        false|         false|\n",
      "|2001|33.511932|        false|         false|\n",
      "|2002|35.797337|        false|         false|\n",
      "|2003|36.322815|        false|         false|\n",
      "|2004|36.168247|        false|         false|\n",
      "|2005|38.098312|        false|         false|\n",
      "|2006|38.804123|        false|         false|\n",
      "|2007|40.728855|        false|         false|\n",
      "|2008| 41.99683|        false|         false|\n",
      "|2009| 44.77849|        false|         false|\n",
      "|2010|44.374836|        false|         false|\n",
      "|2011| 44.61553|        false|         false|\n",
      "|2012| 47.23108|        false|         false|\n",
      "+----+---------+-------------+--------------+\n",
      "only showing top 20 rows\n",
      "\n"
     ]
    }
   ],
   "source": [
    "changedTypedf = education.withColumn(\"TIME\", education[\"TIME\"].cast(\"integer\")).withColumn(\"Value\", education[\"Value\"].cast(\"float\"))\n",
    "changedTypedf.printSchema()\n",
    "\n",
    "cols = [\"TIME\",\"Value\"]\n",
    "bounds ={}\n",
    "for col in cols:\n",
    "    quantiles = changedTypedf.approxQuantile(col,[0.25,0.75],0)\n",
    "    IQR = quantiles[1] - quantiles[0]\n",
    "    bounds[col] = [quantiles[0] - 1.5*IQR,quantiles[1] +1.5*IQR]\n",
    "bounds\n",
    "\n",
    "outliers =  changedTypedf.select(*[\"TIME\",'Value']+[\n",
    "    (\n",
    "            (changedTypedf[c]<bounds[c][0])|\n",
    "            (changedTypedf[c]>bounds[c][1])\n",
    "    ).alias(c + \"_outliers\") for c in cols\n",
    "    ])\n",
    "outliers.show()"
   ]
  },
  {
   "cell_type": "code",
   "execution_count": 11,
   "metadata": {},
   "outputs": [
    {
     "name": "stdout",
     "output_type": "stream",
     "text": [
      "+----+---------+--------+\n",
      "|TIME|    Value|LOCATION|\n",
      "+----+---------+--------+\n",
      "|1991| 35.70754|     AUS|\n",
      "|1993|22.836517|     AUS|\n",
      "|1994|23.624949|     AUS|\n",
      "|1995|24.697142|     AUS|\n",
      "|1997|25.702168|     AUS|\n",
      "|1998|28.139578|     AUS|\n",
      "|1999|28.981586|     AUS|\n",
      "|2000|31.372517|     AUS|\n",
      "|2001|33.511932|     AUS|\n",
      "|2002|35.797337|     AUS|\n",
      "|2003|36.322815|     AUS|\n",
      "|2004|36.168247|     AUS|\n",
      "|2005|38.098312|     AUS|\n",
      "|2006|38.804123|     AUS|\n",
      "|2007|40.728855|     AUS|\n",
      "|2008| 41.99683|     AUS|\n",
      "|2009| 44.77849|     AUS|\n",
      "|2010|44.374836|     AUS|\n",
      "|2011| 44.61553|     AUS|\n",
      "|2012| 47.23108|     AUS|\n",
      "+----+---------+--------+\n",
      "only showing top 20 rows\n",
      "\n"
     ]
    },
    {
     "data": {
      "text/plain": [
       "2932"
      ]
     },
     "execution_count": 11,
     "metadata": {},
     "output_type": "execute_result"
    }
   ],
   "source": [
    "new_df1 = changedTypedf.join(outliers,on =[\"TIME\",\"Value\"])\n",
    "new_df1 = new_df1.filter((new_df1.TIME_outliers == False)& (new_df1.Value_outliers == False))\n",
    "new_df1 = new_df1.drop(*[\"TIME_outliers\",\"Value_outliers\"])\n",
    "new_df1.show()\n",
    "new_df1.count()"
   ]
  },
  {
   "cell_type": "code",
   "execution_count": 12,
   "metadata": {},
   "outputs": [
    {
     "name": "stdout",
     "output_type": "stream",
     "text": [
      "root\n",
      " |-- Country: string (nullable = true)\n",
      " |-- Year: integer (nullable = true)\n",
      " |-- abc: float (nullable = true)\n",
      "\n"
     ]
    }
   ],
   "source": [
    "changedTypedf = GDP.withColumn(\"Year\", GDP[\"Year\"].cast(\"integer\")).withColumn(\"abc\", GDP[\"abc\"].cast(\"float\"))\n",
    "changedTypedf.printSchema()"
   ]
  },
  {
   "cell_type": "code",
   "execution_count": 13,
   "metadata": {},
   "outputs": [
    {
     "data": {
      "text/plain": [
       "{'Year': [1836.0, 2076.0], 'abc': [138.41995239257812, 1243.2200012207031]}"
      ]
     },
     "execution_count": 13,
     "metadata": {},
     "output_type": "execute_result"
    }
   ],
   "source": [
    "cols = [\"Year\",\"abc\"]\n",
    "bounds ={}\n",
    "for col in cols:\n",
    "    quantiles = changedTypedf.approxQuantile(col,[0.25,0.75],0)\n",
    "    IQR = quantiles[1] - quantiles[0]\n",
    "    bounds[col] = [quantiles[0] - 1.5*IQR,quantiles[1] +1.5*IQR]\n",
    "bounds"
   ]
  },
  {
   "cell_type": "code",
   "execution_count": 14,
   "metadata": {},
   "outputs": [
    {
     "name": "stdout",
     "output_type": "stream",
     "text": [
      "+----+------+-------------+------------+\n",
      "|Year|   abc|Year_outliers|abc_outliers|\n",
      "+----+------+-------------+------------+\n",
      "|1991|613.99|        false|       false|\n",
      "|1996|624.04|        false|       false|\n",
      "|2001|634.25|        false|       false|\n",
      "|2006|647.28|        false|       false|\n",
      "|2011| 662.4|        false|       false|\n",
      "|1901|677.87|        false|       false|\n",
      "|1906|693.71|        false|       false|\n",
      "|1911|709.91|        false|       false|\n",
      "|1916|726.49|        false|       false|\n",
      "|1921|743.46|        false|       false|\n",
      "|1926|766.75|        false|       false|\n",
      "|1931|837.07|        false|       false|\n",
      "|1936|857.36|        false|       false|\n",
      "|1941|833.61|        false|       false|\n",
      "|1946| 773.7|        false|       false|\n",
      "|1951|866.19|        false|       false|\n",
      "|1956|896.86|        false|       false|\n",
      "|1961|  null|        false|        null|\n",
      "|1966|705.45|        false|       false|\n",
      "|1971|617.91|        false|       false|\n",
      "+----+------+-------------+------------+\n",
      "only showing top 20 rows\n",
      "\n"
     ]
    }
   ],
   "source": [
    "\n",
    "outliers =  changedTypedf.select(*[\"Year\",'abc']+[\n",
    "    (\n",
    "            (changedTypedf[c]<bounds[c][0])|\n",
    "            (changedTypedf[c]>bounds[c][1])\n",
    "    ).alias(c + \"_outliers\") for c in cols\n",
    "    ])\n",
    "outliers.show()\n"
   ]
  },
  {
   "cell_type": "code",
   "execution_count": 15,
   "metadata": {},
   "outputs": [
    {
     "name": "stdout",
     "output_type": "stream",
     "text": [
      "+----+------+-----------+\n",
      "|Year|   abc|    Country|\n",
      "+----+------+-----------+\n",
      "|1991|613.99|Afghanistan|\n",
      "|1996|624.04|Afghanistan|\n",
      "|2001|634.25|Afghanistan|\n",
      "|2006|647.28|Afghanistan|\n",
      "|2011| 662.4|Afghanistan|\n",
      "|1901|677.87|Afghanistan|\n",
      "|1906|693.71|Afghanistan|\n",
      "|1911|709.91|Afghanistan|\n",
      "|1916|726.49|Afghanistan|\n",
      "|1921|743.46|Afghanistan|\n",
      "|1926|766.75|Afghanistan|\n",
      "|1931|837.07|Afghanistan|\n",
      "|1936|857.36|Afghanistan|\n",
      "|1941|833.61|Afghanistan|\n",
      "|1946| 773.7|Afghanistan|\n",
      "|1951|866.19|Afghanistan|\n",
      "|1956|896.86|Afghanistan|\n",
      "|1966|705.45|Afghanistan|\n",
      "|1971|617.91|Afghanistan|\n",
      "|1976|595.04|Afghanistan|\n",
      "+----+------+-----------+\n",
      "only showing top 20 rows\n",
      "\n"
     ]
    },
    {
     "data": {
      "text/plain": [
       "1105"
      ]
     },
     "execution_count": 15,
     "metadata": {},
     "output_type": "execute_result"
    }
   ],
   "source": [
    "new_df1 = changedTypedf.join(outliers,on =[\"Year\",\"abc\"])\n",
    "new_df1 = new_df1.filter((new_df1.Year_outliers == False)& (new_df1.abc_outliers == False))\n",
    "new_df1 = new_df1.drop(*[\"Year_outliers\",\"abc_outliers\"])\n",
    "new_df1.show()\n",
    "new_df1.count()"
   ]
  },
  {
   "cell_type": "code",
   "execution_count": 16,
   "metadata": {},
   "outputs": [],
   "source": [
    "pop_increase = spark.read.load(\"./datasets/population increase rate.csv\",format =\"csv\",header=\"true\")"
   ]
  },
  {
   "cell_type": "code",
   "execution_count": 17,
   "metadata": {},
   "outputs": [
    {
     "name": "stdout",
     "output_type": "stream",
     "text": [
      "----------------Null values----------------\n"
     ]
    },
    {
     "data": {
      "text/html": [
       "<div>\n",
       "<style scoped>\n",
       "    .dataframe tbody tr th:only-of-type {\n",
       "        vertical-align: middle;\n",
       "    }\n",
       "\n",
       "    .dataframe tbody tr th {\n",
       "        vertical-align: top;\n",
       "    }\n",
       "\n",
       "    .dataframe thead th {\n",
       "        text-align: right;\n",
       "    }\n",
       "</style>\n",
       "<table border=\"1\" class=\"dataframe\">\n",
       "  <thead>\n",
       "    <tr style=\"text-align: right;\">\n",
       "      <th></th>\n",
       "      <th>0</th>\n",
       "    </tr>\n",
       "  </thead>\n",
       "  <tbody>\n",
       "    <tr>\n",
       "      <th>Variant</th>\n",
       "      <td>0</td>\n",
       "    </tr>\n",
       "    <tr>\n",
       "      <th>Region, subregion, country or area *</th>\n",
       "      <td>0</td>\n",
       "    </tr>\n",
       "    <tr>\n",
       "      <th>Notes</th>\n",
       "      <td>164</td>\n",
       "    </tr>\n",
       "    <tr>\n",
       "      <th>Country code</th>\n",
       "      <td>0</td>\n",
       "    </tr>\n",
       "    <tr>\n",
       "      <th>Type</th>\n",
       "      <td>0</td>\n",
       "    </tr>\n",
       "    <tr>\n",
       "      <th>Parent code</th>\n",
       "      <td>0</td>\n",
       "    </tr>\n",
       "    <tr>\n",
       "      <th>1950-1955</th>\n",
       "      <td>0</td>\n",
       "    </tr>\n",
       "    <tr>\n",
       "      <th>1955-1960</th>\n",
       "      <td>0</td>\n",
       "    </tr>\n",
       "    <tr>\n",
       "      <th>1960-1965</th>\n",
       "      <td>0</td>\n",
       "    </tr>\n",
       "    <tr>\n",
       "      <th>1965-1970</th>\n",
       "      <td>0</td>\n",
       "    </tr>\n",
       "    <tr>\n",
       "      <th>1970-1975</th>\n",
       "      <td>0</td>\n",
       "    </tr>\n",
       "    <tr>\n",
       "      <th>1975-1980</th>\n",
       "      <td>0</td>\n",
       "    </tr>\n",
       "    <tr>\n",
       "      <th>1980-1985</th>\n",
       "      <td>0</td>\n",
       "    </tr>\n",
       "    <tr>\n",
       "      <th>1985-1990</th>\n",
       "      <td>0</td>\n",
       "    </tr>\n",
       "    <tr>\n",
       "      <th>1990-1995</th>\n",
       "      <td>0</td>\n",
       "    </tr>\n",
       "    <tr>\n",
       "      <th>1995-2000</th>\n",
       "      <td>0</td>\n",
       "    </tr>\n",
       "    <tr>\n",
       "      <th>2000-2005</th>\n",
       "      <td>0</td>\n",
       "    </tr>\n",
       "    <tr>\n",
       "      <th>2005-2010</th>\n",
       "      <td>0</td>\n",
       "    </tr>\n",
       "    <tr>\n",
       "      <th>2010-2015</th>\n",
       "      <td>0</td>\n",
       "    </tr>\n",
       "    <tr>\n",
       "      <th>2015-2020</th>\n",
       "      <td>0</td>\n",
       "    </tr>\n",
       "  </tbody>\n",
       "</table>\n",
       "</div>"
      ],
      "text/plain": [
       "                                        0\n",
       "Variant                                 0\n",
       "Region, subregion, country or area *    0\n",
       "Notes                                 164\n",
       "Country code                            0\n",
       "Type                                    0\n",
       "Parent code                             0\n",
       "1950-1955                               0\n",
       "1955-1960                               0\n",
       "1960-1965                               0\n",
       "1965-1970                               0\n",
       "1970-1975                               0\n",
       "1975-1980                               0\n",
       "1980-1985                               0\n",
       "1985-1990                               0\n",
       "1990-1995                               0\n",
       "1995-2000                               0\n",
       "2000-2005                               0\n",
       "2005-2010                               0\n",
       "2010-2015                               0\n",
       "2015-2020                               0"
      ]
     },
     "metadata": {},
     "output_type": "display_data"
    },
    {
     "name": "stdout",
     "output_type": "stream",
     "text": [
      "----------------End----------------\n"
     ]
    }
   ],
   "source": [
    "display_null_values(pop_increase)"
   ]
  },
  {
   "cell_type": "code",
   "execution_count": 18,
   "metadata": {
    "scrolled": true
   },
   "outputs": [
    {
     "name": "stdout",
     "output_type": "stream",
     "text": [
      "DataFrame[Variant: string, Region, subregion, country or area *: string, Notes: string, Country code: string, Type: string, Parent code: string, 1950-1955: string, 1955-1960: string, 1960-1965: string, 1965-1970: string, 1970-1975: string, 1975-1980: string, 1980-1985: string, 1985-1990: string, 1990-1995: string, 1995-2000: string, 2000-2005: string, 2005-2010: string, 2010-2015: string, 2015-2020: string]\n",
      "+---------+------------------------------------+-----+------------+------------+-----------+---------+---------+---------+---------+---------+---------+---------+---------+---------+---------+---------+---------+---------+---------+\n",
      "|  Variant|Region, subregion, country or area *|Notes|Country code|        Type|Parent code|1950-1955|1955-1960|1960-1965|1965-1970|1970-1975|1975-1980|1980-1985|1985-1990|1990-1995|1995-2000|2000-2005|2005-2010|2010-2015|2015-2020|\n",
      "+---------+------------------------------------+-----+------------+------------+-----------+---------+---------+---------+---------+---------+---------+---------+---------+---------+---------+---------+---------+---------+---------+\n",
      "|Estimates|                             Burundi| null|         108|Country/Area|        910|     24.6|     24.8|     25.9|     26.9|     27.2|     30.9|     32.9|     34.1|     30.4|     27.4|     29.4|     31.9|     33.0|     31.2|\n",
      "|Estimates|                             Comoros| null|         174|Country/Area|        910|     19.6|     23.3|     24.9|     25.7|     26.9|     28.7|     31.4|     31.7|     30.1|     28.7|     27.5|     27.1|     26.6|     24.8|\n",
      "|Estimates|                            Djibouti| null|         262|Country/Area|        910|     20.0|     23.6|     26.8|     28.7|     30.8|     29.9|     28.9|     29.4|     27.8|     22.9|     19.9|     17.0|     15.5|     14.6|\n",
      "|Estimates|                             Eritrea| null|         232|Country/Area|        910|     17.7|     22.0|     24.8|     25.7|     26.2|     26.9|     27.9|     27.7|     23.3|     19.4|     24.0|     28.3|     25.7|     23.4|\n",
      "|Estimates|                            Ethiopia| null|         231|Country/Area|        910|     19.3|     21.1|     24.4|     25.8|     27.6|     27.7|     27.8|     29.2|     29.4|     30.3|     28.8|     27.7|     27.2|     25.9|\n",
      "|Estimates|                               Kenya| null|         404|Country/Area|        910|     27.9|     30.0|     32.4|     34.4|     36.9|     37.9|     38.1|     35.3|     29.7|     28.2|     27.0|     28.5|     26.2|     23.4|\n",
      "|Estimates|                          Madagascar| null|         450|Country/Area|        910|     21.3|     23.1|     24.7|     26.4|     28.3|     29.3|     28.9|     28.5|     30.1|     31.5|     30.2|     28.6|     27.2|     26.7|\n",
      "|Estimates|                              Malawi| null|         454|Country/Area|        910|     20.4|     22.5|     24.3|     25.8|     27.6|     29.3|     30.1|     30.2|     27.1|     26.0|     25.8|     29.0|     29.2|     27.5|\n",
      "|Estimates|                           Mauritius|    1|         480|Country/Area|        910|     28.1|     31.7|     35.1|     25.9|     20.1|     20.3|     14.4|     14.7|     14.4|     11.3|      9.3|      6.2|      3.8|      1.9|\n",
      "|Estimates|                             Mayotte|    2|         175|Country/Area|        910|     14.3|     24.0|     30.7|     35.5|     38.9|     42.3|     41.4|     39.8|     32.4|     32.9|     33.6|     33.7|     29.2|     25.6|\n",
      "|Estimates|                          Mozambique| null|         508|Country/Area|        910|     18.4|     20.4|     23.1|     23.6|     24.3|     25.3|     24.8|     24.2|     26.0|     27.5|     28.8|     28.0|     28.0|     29.1|\n",
      "|Estimates|                             Réunion|    2|         638|Country/Area|        910|     30.4|     30.6|     31.7|     27.7|     19.6|     17.1|     17.4|     18.4|     16.6|     15.2|     14.6|     12.7|     11.1|      8.7|\n",
      "|Estimates|                              Rwanda| null|         646|Country/Area|        910|     28.9|     29.9|     28.5|     28.7|     30.9|     34.0|     36.9|     33.1|     -2.4|     24.8|     23.3|     27.1|     26.9|     26.8|\n",
      "|Estimates|                          Seychelles| null|         690|Country/Area|        910|     26.6|     25.9|     27.9|     27.0|     25.2|     22.1|     19.7|     17.1|     15.1|     11.7|     11.8|     11.9|     10.1|      9.0|\n",
      "|Estimates|                             Somalia| null|         706|Country/Area|        910|     19.1|     20.3|     21.6|     23.0|     23.8|     23.8|     25.4|     28.5|     29.6|     33.7|     32.6|     32.0|     30.8|     30.9|\n",
      "|Estimates|                         South Sudan| null|         728|Country/Area|        910|     10.8|     16.3|     19.4|     21.8|     22.7|     23.7|     23.4|     25.7|     27.2|     27.6|     26.3|     26.4|     25.9|     24.6|\n",
      "|Estimates|                              Uganda| null|         800|Country/Area|        910|     26.5|     27.8|     29.7|     31.5|     31.9|     32.5|     33.1|     32.5|     31.2|     31.0|     33.4|     34.9|     34.5|     31.8|\n",
      "|Estimates|                United Republic o...|    3|         834|Country/Area|        910|     26.1|     28.0|     28.7|     29.6|     30.3|     31.1|     30.5|     29.9|     28.2|     26.9|     29.2|     30.9|     30.8|     30.4|\n",
      "|Estimates|                              Zambia| null|         894|Country/Area|        910|     27.0|     29.8|     32.2|     32.6|     34.4|     34.6|     33.2|     31.8|     28.2|     26.6|     28.6|     30.2|     31.5|     29.7|\n",
      "|Estimates|                            Zimbabwe| null|         716|Country/Area|        910|     31.6|     32.7|     34.4|     35.2|     36.3|     37.0|     33.6|     30.5|     23.4|     17.1|     14.9|     18.3|     26.3|     22.8|\n",
      "+---------+------------------------------------+-----+------------+------------+-----------+---------+---------+---------+---------+---------+---------+---------+---------+---------+---------+---------+---------+---------+---------+\n",
      "only showing top 20 rows\n",
      "\n"
     ]
    },
    {
     "data": {
      "text/plain": [
       "201"
      ]
     },
     "execution_count": 18,
     "metadata": {},
     "output_type": "execute_result"
    }
   ],
   "source": [
    "print(pop_increase)\n",
    "pop_increase.show()\n",
    "pop_increase.count()"
   ]
  },
  {
   "cell_type": "code",
   "execution_count": 19,
   "metadata": {},
   "outputs": [
    {
     "name": "stdout",
     "output_type": "stream",
     "text": [
      "DataFrame[Region, subregion, country or area *: string, 1950-1955: string, 1955-1960: string, 1960-1965: string, 1965-1970: string, 1970-1975: string, 1975-1980: string, 1980-1985: string, 1985-1990: string, 1990-1995: string, 1995-2000: string, 2000-2005: string, 2005-2010: string, 2010-2015: string, 2015-2020: string]\n",
      "+------------------------------------+---------+---------+---------+---------+---------+---------+---------+---------+---------+---------+---------+---------+---------+---------+\n",
      "|Region, subregion, country or area *|1950-1955|1955-1960|1960-1965|1965-1970|1970-1975|1975-1980|1980-1985|1985-1990|1990-1995|1995-2000|2000-2005|2005-2010|2010-2015|2015-2020|\n",
      "+------------------------------------+---------+---------+---------+---------+---------+---------+---------+---------+---------+---------+---------+---------+---------+---------+\n",
      "|                             Burundi|     24.6|     24.8|     25.9|     26.9|     27.2|     30.9|     32.9|     34.1|     30.4|     27.4|     29.4|     31.9|     33.0|     31.2|\n",
      "|                             Comoros|     19.6|     23.3|     24.9|     25.7|     26.9|     28.7|     31.4|     31.7|     30.1|     28.7|     27.5|     27.1|     26.6|     24.8|\n",
      "|                            Djibouti|     20.0|     23.6|     26.8|     28.7|     30.8|     29.9|     28.9|     29.4|     27.8|     22.9|     19.9|     17.0|     15.5|     14.6|\n",
      "|                             Eritrea|     17.7|     22.0|     24.8|     25.7|     26.2|     26.9|     27.9|     27.7|     23.3|     19.4|     24.0|     28.3|     25.7|     23.4|\n",
      "|                            Ethiopia|     19.3|     21.1|     24.4|     25.8|     27.6|     27.7|     27.8|     29.2|     29.4|     30.3|     28.8|     27.7|     27.2|     25.9|\n",
      "|                               Kenya|     27.9|     30.0|     32.4|     34.4|     36.9|     37.9|     38.1|     35.3|     29.7|     28.2|     27.0|     28.5|     26.2|     23.4|\n",
      "|                          Madagascar|     21.3|     23.1|     24.7|     26.4|     28.3|     29.3|     28.9|     28.5|     30.1|     31.5|     30.2|     28.6|     27.2|     26.7|\n",
      "|                              Malawi|     20.4|     22.5|     24.3|     25.8|     27.6|     29.3|     30.1|     30.2|     27.1|     26.0|     25.8|     29.0|     29.2|     27.5|\n",
      "|                           Mauritius|     28.1|     31.7|     35.1|     25.9|     20.1|     20.3|     14.4|     14.7|     14.4|     11.3|      9.3|      6.2|      3.8|      1.9|\n",
      "|                             Mayotte|     14.3|     24.0|     30.7|     35.5|     38.9|     42.3|     41.4|     39.8|     32.4|     32.9|     33.6|     33.7|     29.2|     25.6|\n",
      "|                          Mozambique|     18.4|     20.4|     23.1|     23.6|     24.3|     25.3|     24.8|     24.2|     26.0|     27.5|     28.8|     28.0|     28.0|     29.1|\n",
      "|                             Réunion|     30.4|     30.6|     31.7|     27.7|     19.6|     17.1|     17.4|     18.4|     16.6|     15.2|     14.6|     12.7|     11.1|      8.7|\n",
      "|                              Rwanda|     28.9|     29.9|     28.5|     28.7|     30.9|     34.0|     36.9|     33.1|     -2.4|     24.8|     23.3|     27.1|     26.9|     26.8|\n",
      "|                          Seychelles|     26.6|     25.9|     27.9|     27.0|     25.2|     22.1|     19.7|     17.1|     15.1|     11.7|     11.8|     11.9|     10.1|      9.0|\n",
      "|                             Somalia|     19.1|     20.3|     21.6|     23.0|     23.8|     23.8|     25.4|     28.5|     29.6|     33.7|     32.6|     32.0|     30.8|     30.9|\n",
      "|                         South Sudan|     10.8|     16.3|     19.4|     21.8|     22.7|     23.7|     23.4|     25.7|     27.2|     27.6|     26.3|     26.4|     25.9|     24.6|\n",
      "|                              Uganda|     26.5|     27.8|     29.7|     31.5|     31.9|     32.5|     33.1|     32.5|     31.2|     31.0|     33.4|     34.9|     34.5|     31.8|\n",
      "|                United Republic o...|     26.1|     28.0|     28.7|     29.6|     30.3|     31.1|     30.5|     29.9|     28.2|     26.9|     29.2|     30.9|     30.8|     30.4|\n",
      "|                              Zambia|     27.0|     29.8|     32.2|     32.6|     34.4|     34.6|     33.2|     31.8|     28.2|     26.6|     28.6|     30.2|     31.5|     29.7|\n",
      "|                            Zimbabwe|     31.6|     32.7|     34.4|     35.2|     36.3|     37.0|     33.6|     30.5|     23.4|     17.1|     14.9|     18.3|     26.3|     22.8|\n",
      "+------------------------------------+---------+---------+---------+---------+---------+---------+---------+---------+---------+---------+---------+---------+---------+---------+\n",
      "only showing top 20 rows\n",
      "\n"
     ]
    },
    {
     "data": {
      "text/plain": [
       "201"
      ]
     },
     "execution_count": 19,
     "metadata": {},
     "output_type": "execute_result"
    }
   ],
   "source": [
    "pop_increase = pop_increase.drop(*[\"Variant\",\"Notes\",\"Country code\",\"Type\",\"Parent code\"])\n",
    "print(pop_increase)\n",
    "pop_increase.show()\n",
    "pop_increase.count()"
   ]
  },
  {
   "cell_type": "code",
   "execution_count": 23,
   "metadata": {},
   "outputs": [
    {
     "name": "stdout",
     "output_type": "stream",
     "text": [
      "----------------Null values----------------\n"
     ]
    },
    {
     "data": {
      "text/html": [
       "<div>\n",
       "<style scoped>\n",
       "    .dataframe tbody tr th:only-of-type {\n",
       "        vertical-align: middle;\n",
       "    }\n",
       "\n",
       "    .dataframe tbody tr th {\n",
       "        vertical-align: top;\n",
       "    }\n",
       "\n",
       "    .dataframe thead th {\n",
       "        text-align: right;\n",
       "    }\n",
       "</style>\n",
       "<table border=\"1\" class=\"dataframe\">\n",
       "  <thead>\n",
       "    <tr style=\"text-align: right;\">\n",
       "      <th></th>\n",
       "      <th>0</th>\n",
       "    </tr>\n",
       "  </thead>\n",
       "  <tbody>\n",
       "    <tr>\n",
       "      <th>Region, subregion, country or area *</th>\n",
       "      <td>0</td>\n",
       "    </tr>\n",
       "    <tr>\n",
       "      <th>1950-1955</th>\n",
       "      <td>0</td>\n",
       "    </tr>\n",
       "    <tr>\n",
       "      <th>1955-1960</th>\n",
       "      <td>0</td>\n",
       "    </tr>\n",
       "    <tr>\n",
       "      <th>1960-1965</th>\n",
       "      <td>0</td>\n",
       "    </tr>\n",
       "    <tr>\n",
       "      <th>1965-1970</th>\n",
       "      <td>0</td>\n",
       "    </tr>\n",
       "    <tr>\n",
       "      <th>1970-1975</th>\n",
       "      <td>0</td>\n",
       "    </tr>\n",
       "    <tr>\n",
       "      <th>1975-1980</th>\n",
       "      <td>0</td>\n",
       "    </tr>\n",
       "    <tr>\n",
       "      <th>1980-1985</th>\n",
       "      <td>0</td>\n",
       "    </tr>\n",
       "    <tr>\n",
       "      <th>1985-1990</th>\n",
       "      <td>0</td>\n",
       "    </tr>\n",
       "    <tr>\n",
       "      <th>1990-1995</th>\n",
       "      <td>0</td>\n",
       "    </tr>\n",
       "    <tr>\n",
       "      <th>1995-2000</th>\n",
       "      <td>0</td>\n",
       "    </tr>\n",
       "    <tr>\n",
       "      <th>2000-2005</th>\n",
       "      <td>0</td>\n",
       "    </tr>\n",
       "    <tr>\n",
       "      <th>2005-2010</th>\n",
       "      <td>0</td>\n",
       "    </tr>\n",
       "    <tr>\n",
       "      <th>2010-2015</th>\n",
       "      <td>0</td>\n",
       "    </tr>\n",
       "    <tr>\n",
       "      <th>2015-2020</th>\n",
       "      <td>0</td>\n",
       "    </tr>\n",
       "  </tbody>\n",
       "</table>\n",
       "</div>"
      ],
      "text/plain": [
       "                                      0\n",
       "Region, subregion, country or area *  0\n",
       "1950-1955                             0\n",
       "1955-1960                             0\n",
       "1960-1965                             0\n",
       "1965-1970                             0\n",
       "1970-1975                             0\n",
       "1975-1980                             0\n",
       "1980-1985                             0\n",
       "1985-1990                             0\n",
       "1990-1995                             0\n",
       "1995-2000                             0\n",
       "2000-2005                             0\n",
       "2005-2010                             0\n",
       "2010-2015                             0\n",
       "2015-2020                             0"
      ]
     },
     "metadata": {},
     "output_type": "display_data"
    },
    {
     "name": "stdout",
     "output_type": "stream",
     "text": [
      "----------------End----------------\n"
     ]
    },
    {
     "ename": "AttributeError",
     "evalue": "'DataFrame' object has no attribute 'shape'",
     "output_type": "error",
     "traceback": [
      "\u001b[0;31m---------------------------------------------------------------------------\u001b[0m",
      "\u001b[0;31mAttributeError\u001b[0m                            Traceback (most recent call last)",
      "\u001b[0;32m<ipython-input-23-1c38acee7c1a>\u001b[0m in \u001b[0;36m<module>\u001b[0;34m()\u001b[0m\n\u001b[1;32m      2\u001b[0m \u001b[0;34m\u001b[0m\u001b[0m\n\u001b[1;32m      3\u001b[0m \u001b[0mpop_increase\u001b[0m \u001b[0;34m=\u001b[0m \u001b[0mpop_increase\u001b[0m\u001b[0;34m.\u001b[0m\u001b[0mdropna\u001b[0m\u001b[0;34m(\u001b[0m\u001b[0;34m)\u001b[0m\u001b[0;34m\u001b[0m\u001b[0m\n\u001b[0;32m----> 4\u001b[0;31m \u001b[0mprint\u001b[0m\u001b[0;34m(\u001b[0m\u001b[0mpop_increase\u001b[0m\u001b[0;34m.\u001b[0m\u001b[0mshape\u001b[0m\u001b[0;34m)\u001b[0m\u001b[0;34m\u001b[0m\u001b[0m\n\u001b[0m\u001b[1;32m      5\u001b[0m \u001b[0;34m\u001b[0m\u001b[0m\n\u001b[1;32m      6\u001b[0m \u001b[0moutliers_pop\u001b[0m \u001b[0;34m=\u001b[0m \u001b[0mpop_increase\u001b[0m\u001b[0;34m[\u001b[0m\u001b[0;34m\"1975-1980\"\u001b[0m\u001b[0;34m]\u001b[0m\u001b[0;34m.\u001b[0m\u001b[0mquantile\u001b[0m\u001b[0;34m(\u001b[0m\u001b[0;34m[\u001b[0m\u001b[0;36m0.1\u001b[0m\u001b[0;34m,\u001b[0m\u001b[0;36m0.999\u001b[0m\u001b[0;34m]\u001b[0m\u001b[0;34m)\u001b[0m\u001b[0;34m\u001b[0m\u001b[0m\n",
      "\u001b[0;32m~/spark-2.1.1-bin-hadoop2.7/python/pyspark/sql/dataframe.py\u001b[0m in \u001b[0;36m__getattr__\u001b[0;34m(self, name)\u001b[0m\n\u001b[1;32m    971\u001b[0m         \u001b[0;32mif\u001b[0m \u001b[0mname\u001b[0m \u001b[0;32mnot\u001b[0m \u001b[0;32min\u001b[0m \u001b[0mself\u001b[0m\u001b[0;34m.\u001b[0m\u001b[0mcolumns\u001b[0m\u001b[0;34m:\u001b[0m\u001b[0;34m\u001b[0m\u001b[0m\n\u001b[1;32m    972\u001b[0m             raise AttributeError(\n\u001b[0;32m--> 973\u001b[0;31m                 \"'%s' object has no attribute '%s'\" % (self.__class__.__name__, name))\n\u001b[0m\u001b[1;32m    974\u001b[0m         \u001b[0mjc\u001b[0m \u001b[0;34m=\u001b[0m \u001b[0mself\u001b[0m\u001b[0;34m.\u001b[0m\u001b[0m_jdf\u001b[0m\u001b[0;34m.\u001b[0m\u001b[0mapply\u001b[0m\u001b[0;34m(\u001b[0m\u001b[0mname\u001b[0m\u001b[0;34m)\u001b[0m\u001b[0;34m\u001b[0m\u001b[0m\n\u001b[1;32m    975\u001b[0m         \u001b[0;32mreturn\u001b[0m \u001b[0mColumn\u001b[0m\u001b[0;34m(\u001b[0m\u001b[0mjc\u001b[0m\u001b[0;34m)\u001b[0m\u001b[0;34m\u001b[0m\u001b[0m\n",
      "\u001b[0;31mAttributeError\u001b[0m: 'DataFrame' object has no attribute 'shape'"
     ]
    }
   ],
   "source": [
    "display_null_values(pop_increase)\n",
    "\n",
    "pop_increase = pop_increase.dropna()\n",
    "print(pop_increase.shape)\n",
    "\n",
    "outliers_pop = pop_increase[\"1975-1980\"].quantile([0.1,0.999])\n",
    "accepted_pop = ((outliers_pop.loc[0.1]<pop_increase[\"1975-1980\"].values)&\n",
    "                    (pop_increase[\"1975-1980\"]<outliers_pop.loc[0.999]))\n",
    "valid_pop= pop_increase[accepted_pop]\n",
    "print(valid_pop)\n"
   ]
  },
  {
   "cell_type": "code",
   "execution_count": null,
   "metadata": {},
   "outputs": [],
   "source": [
    "changedTypedf = elderly.withColumn(\"TIME\", elderly[\"TIME\"].cast(\"float\")).withColumn(\"Value\", elderly[\"Value\"].cast(\"float\"))\n",
    "changedTypedf.printSchema()\n",
    "\n",
    "cols = [\"TIME\",\"Value\"]\n",
    "bounds ={}\n",
    "for col in cols:\n",
    "    quantiles = changedTypedf.approxQuantile(col,[0.25,0.75],0)\n",
    "    IQR = quantiles[1] - quantiles[0]\n",
    "    bounds[col] = [quantiles[0] - 1.5*IQR,quantiles[1] +1.5*IQR]\n",
    "bounds\n",
    "\n",
    "outliers =  changedTypedf.select(*[\"TIME\",'Value']+[\n",
    "    (\n",
    "            (changedTypedf[c]<bounds[c][0])|\n",
    "            (changedTypedf[c]>bounds[c][1])\n",
    "    ).alias(c + \"_outliers\") for c in cols\n",
    "    ])\n",
    "outliers.show()"
   ]
  },
  {
   "cell_type": "code",
   "execution_count": null,
   "metadata": {},
   "outputs": [],
   "source": [
    "retirement = spark.read.load(\"./datasets/statistic_id268824_retirement-age---international-comparison.csv\",format =\"csv\",header=\"true\")\n",
    "retirement.show()\n",
    "print(retirement)\n",
    "retirement.count()"
   ]
  },
  {
   "cell_type": "code",
   "execution_count": null,
   "metadata": {
    "scrolled": true
   },
   "outputs": [],
   "source": [
    "countrycode = spark.read.load(\"./datasets/country-codes.csv\",format =\"csv\",header=\"true\")\n",
    "countrycode.show()"
   ]
  },
  {
   "cell_type": "code",
   "execution_count": null,
   "metadata": {},
   "outputs": [],
   "source": [
    "elderly = spark.read.load(\"./datasets/elderly_pop.csv\",format =\"csv\",header=\"true\")\n",
    "elderly.show()\n",
    "print(elderly)\n",
    "elderly.count()"
   ]
  },
  {
   "cell_type": "code",
   "execution_count": null,
   "metadata": {},
   "outputs": [],
   "source": [
    "display_null_values(elderly)"
   ]
  },
  {
   "cell_type": "code",
   "execution_count": null,
   "metadata": {},
   "outputs": [],
   "source": [
    "elderly = elderly [\"LOCATION\",\"TIME\",\"Value\"]\n",
    "print(elderly)\n",
    "elderly.show()\n",
    "elderly.count()"
   ]
  },
  {
   "cell_type": "code",
   "execution_count": null,
   "metadata": {},
   "outputs": [],
   "source": [
    "changedTypedf = elderly.withColumn(\"TIME\", elderly[\"TIME\"].cast(\"integer\")).withColumn(\"Value\", elderly[\"Value\"].cast(\"float\"))\n",
    "changedTypedf.printSchema()\n",
    "\n",
    "cols = [\"TIME\",\"Value\"]\n",
    "bounds ={}\n",
    "for col in cols:\n",
    "    quantiles = changedTypedf.approxQuantile(col,[0.25,0.75],0)\n",
    "    IQR = quantiles[1] - quantiles[0]\n",
    "    bounds[col] = [quantiles[0] - 1.5*IQR,quantiles[1] +1.5*IQR]\n",
    "bounds\n",
    "\n",
    "outliers =  changedTypedf.select(*[\"TIME\",'Value']+[\n",
    "    (\n",
    "            (changedTypedf[c]<bounds[c][0])|\n",
    "            (changedTypedf[c]>bounds[c][1])\n",
    "    ).alias(c + \"_outliers\") for c in cols\n",
    "    ])\n",
    "outliers.show()"
   ]
  },
  {
   "cell_type": "code",
   "execution_count": null,
   "metadata": {},
   "outputs": [],
   "source": [
    "new_df1 = changedTypedf.join(outliers,on =[\"TIME\",\"Value\"])\n",
    "new_df1 = new_df1.filter((new_df1.TIME_outliers == False)& (new_df1.Value_outliers == False))\n",
    "new_df1 = new_df1.drop(*[\"TIME_outliers\",\"Value_outliers\"])\n",
    "new_df1.show()\n",
    "new_df1.count()"
   ]
  },
  {
   "cell_type": "code",
   "execution_count": null,
   "metadata": {},
   "outputs": [],
   "source": [
    "import pandas as pd\n",
    "path = \"./datasets/tertiary_education.csv\"\n",
    "data_set = pd.read_csv(path)\n",
    "data_set.head(10)"
   ]
  },
  {
   "cell_type": "code",
   "execution_count": null,
   "metadata": {},
   "outputs": [],
   "source": [
    "from matplotlib import pyplot as plt\n",
    "plt.scatter(data_set[\"TIME\"],data_set[\"Value\"])\n",
    "plt.xlabel(\"TIME\")\n",
    "plt.ylabel(\"Value\")"
   ]
  },
  {
   "cell_type": "code",
   "execution_count": null,
   "metadata": {},
   "outputs": [],
   "source": [
    "plt.plot(data_set[\"Value\"])\n",
    "plt.ylabel(\"Value\")"
   ]
  },
  {
   "cell_type": "code",
   "execution_count": null,
   "metadata": {},
   "outputs": [],
   "source": [
    "plt.plot(data_set[\"TIME\"])\n",
    "plt.ylabel(\"TIME\")"
   ]
  },
  {
   "cell_type": "code",
   "execution_count": null,
   "metadata": {},
   "outputs": [],
   "source": [
    "plt.plot(data_set[\"LOCATION\"])\n",
    "plt.ylabel(\"LOCATION\")"
   ]
  },
  {
   "cell_type": "code",
   "execution_count": null,
   "metadata": {},
   "outputs": [],
   "source": [
    "import pandas as pd\n",
    "path = \"./datasets/population increase rate.csv\"\n",
    "data_set = pd.read_csv(path)\n",
    "data_set.head(10)"
   ]
  },
  {
   "cell_type": "code",
   "execution_count": null,
   "metadata": {},
   "outputs": [],
   "source": [
    "from matplotlib import pyplot as plt\n",
    "plt.plot(data_set[\"Region, subregion, country or area *\"])\n",
    "plt.ylabel(\"country\")"
   ]
  },
  {
   "cell_type": "code",
   "execution_count": null,
   "metadata": {},
   "outputs": [],
   "source": [
    "plt.plot(data_set[\"1955-1960\"])\n",
    "plt.plot(data_set[\"1960-1965\"])\n",
    "plt.plot(data_set[\"1965-1970\"])\n",
    "plt.plot(data_set[\"1970-1975\"])\n",
    "plt.plot(data_set[\"1975-1980\"])\n",
    "plt.plot(data_set[\"1980-1985\"])\n",
    "plt.plot(data_set[\"1985-1990\"])\n",
    "plt.plot(data_set[\"1990-1995\"])\n",
    "plt.plot(data_set[\"1995-2000\"])\n",
    "plt.plot(data_set[\"2000-2005\"])\n",
    "plt.plot(data_set[\"2005-2010\"])\n",
    "plt.plot(data_set[\"2010-2015\"])\n",
    "plt.plot(data_set[\"2015-2020\"])"
   ]
  },
  {
   "cell_type": "code",
   "execution_count": null,
   "metadata": {},
   "outputs": [],
   "source": [
    "import pandas as pd\n",
    "from matplotlib import pyplot as plt\n",
    "path = \"./datasets/GDP1.csv\"\n",
    "data_set = pd.read_csv(path)\n",
    "data_set.head(10)"
   ]
  },
  {
   "cell_type": "code",
   "execution_count": null,
   "metadata": {},
   "outputs": [],
   "source": [
    "from matplotlib import pyplot as plt\n",
    "plt.plot(data_set[\"Year\"])\n",
    "plt.ylabel(\"Year\")"
   ]
  },
  {
   "cell_type": "code",
   "execution_count": null,
   "metadata": {},
   "outputs": [],
   "source": [
    "print(education)\n",
    "education.show()\n",
    "education.count()\n",
    "print (education.isnull().sum())\n",
    "print (education.isnull().sum().sum())"
   ]
  },
  {
   "cell_type": "code",
   "execution_count": 64,
   "metadata": {},
   "outputs": [
    {
     "name": "stdout",
     "output_type": "stream",
     "text": [
      "     Value_tertiary  Value_elderly  1950-1955  1955-1960  1960-1965  \\\n",
      "0            29.630          8.424     24.611     24.804     25.895   \n",
      "1            44.375          8.475     19.610     23.252     24.890   \n",
      "2            34.825          8.515     20.044     23.604     26.842   \n",
      "3            39.527          8.512     17.748     21.986     24.790   \n",
      "4            25.102          8.515     19.322     21.131     24.445   \n",
      "5            33.864          8.513     27.889     29.983     32.410   \n",
      "6            30.721          8.538     21.327     23.057     24.653   \n",
      "7            20.384          8.554     20.350     22.477     24.349   \n",
      "8            39.386          8.525     28.097     31.682     35.132   \n",
      "9            30.912          8.520     14.348     23.961     30.742   \n",
      "10           25.633          8.503     18.381     20.447     23.065   \n",
      "11           43.801          8.472     30.385     30.590     31.669   \n",
      "12           41.982          8.444     28.947     29.896     28.517   \n",
      "13           56.507          8.372     26.630     25.851     27.885   \n",
      "14           46.562          8.345     19.132     20.257     21.552   \n",
      "15           56.170          8.344     10.773     16.331     19.440   \n",
      "16           38.504          8.406     26.455     27.759     29.660   \n",
      "17           33.449          8.506     26.128     27.953     28.729   \n",
      "18           28.124          8.607     27.004     29.799     32.224   \n",
      "19           40.051          8.721     31.606     32.670     34.409   \n",
      "20            9.136          8.928     20.653     22.274     21.820   \n",
      "21            3.599          9.072     17.749     19.018     21.794   \n",
      "22           17.949          9.240     10.951     13.824     16.058   \n",
      "23            6.131          9.436     17.786     18.749     19.837   \n",
      "24           17.624          9.617     19.279     22.229     25.237   \n",
      "25           20.218          9.750     20.759     23.023     24.514   \n",
      "26           17.257          9.871     12.318     12.496     13.516   \n",
      "27           26.132          9.977      3.346      5.529      8.904   \n",
      "28           16.268         10.102     26.756     29.142     30.161   \n",
      "29           15.903         10.267     26.707     28.984     29.995   \n",
      "..              ...            ...        ...        ...        ...   \n",
      "127          23.125         12.495     25.483     29.029     30.767   \n",
      "128          15.006         12.636     30.456     30.101     29.483   \n",
      "129          37.127         12.807     27.321     29.321     30.686   \n",
      "130           8.898         12.995     30.768     32.564     33.023   \n",
      "131          24.805         13.146     31.953     33.651     32.203   \n",
      "132          10.399         13.275     29.442     31.063     31.639   \n",
      "133          16.151         13.393     16.427     15.803     14.595   \n",
      "134          24.029         13.492     17.032     19.329     20.929   \n",
      "135          14.636         13.609     28.362     28.640     28.786   \n",
      "136          12.700         13.740     24.368     24.314     23.443   \n",
      "137          15.933         13.845     31.088     33.728     34.202   \n",
      "138          16.299         13.925     26.308     28.001     28.989   \n",
      "139          31.308         13.986     20.646     18.714     19.111   \n",
      "140          19.976         14.048     33.433     34.360     30.960   \n",
      "141          26.724         14.159     35.563     34.139     33.290   \n",
      "142          42.231         14.271     26.364     27.688     29.006   \n",
      "143          29.330         14.260     32.264     32.997     33.797   \n",
      "144          27.226         14.212     10.762     11.898     12.374   \n",
      "145          36.850         14.092     34.110     35.396     34.352   \n",
      "146           9.457         13.820     13.662     13.949     12.744   \n",
      "147          17.447         13.682     16.416     17.506     15.975   \n",
      "148           9.385         13.826     34.180     37.916     34.494   \n",
      "149          12.197         14.083     19.274     21.546     23.144   \n",
      "150          40.961         14.285      9.435     15.333     18.874   \n",
      "151          40.028         14.486     19.565     23.096     26.096   \n",
      "152          42.311         14.715     31.645     32.560     32.559   \n",
      "153          43.411         14.922     22.362     26.736     31.055   \n",
      "154          11.043         15.126     23.942     27.758     27.456   \n",
      "155          14.730         15.310     31.026     30.052     30.019   \n",
      "156          12.358         15.478     30.568     31.745     28.374   \n",
      "\n",
      "     1965-1970  1970-1975  1975-1980  1980-1985  1985-1990  1990-1995  \\\n",
      "0       26.932     27.203     30.883     32.899     34.078     30.390   \n",
      "1       25.710     26.875     28.694     31.367     31.693     30.122   \n",
      "2       28.699     30.760     29.897     28.881     29.445     27.848   \n",
      "3       25.661     26.204     26.919     27.883     27.655     23.334   \n",
      "4       25.782     27.623     27.691     27.769     29.228     29.359   \n",
      "5       34.386     36.859     37.931     38.089     35.251     29.691   \n",
      "6       26.409     28.268     29.265     28.901     28.532     30.091   \n",
      "7       25.766     27.596     29.278     30.117     30.209     27.052   \n",
      "8       25.908     20.068     20.330     14.403     14.690     14.359   \n",
      "9       35.478     38.923     42.294     41.414     39.838     32.424   \n",
      "10      23.609     24.306     25.282     24.769     24.216     26.043   \n",
      "11      27.650     19.638     17.105     17.360     18.431     16.625   \n",
      "12      28.705     30.896     33.982     36.941     33.105     -2.381   \n",
      "13      27.009     25.164     22.135     19.747     17.069     15.146   \n",
      "14      22.981     23.794     23.806     25.430     28.463     29.587   \n",
      "15      21.780     22.734     23.731     23.373     25.691     27.239   \n",
      "16      31.498     31.930     32.527     33.139     32.525     31.231   \n",
      "17      29.632     30.313     31.120     30.474     29.907     28.157   \n",
      "18      32.551     34.387     34.592     33.231     31.783     28.243   \n",
      "19      35.249     36.264     36.987     33.643     30.463     23.376   \n",
      "20      24.255     28.924     29.091     30.302     31.139     30.302   \n",
      "21      24.313     26.736     29.127     31.369     31.647     29.439   \n",
      "22      18.348     20.928     23.281     25.544     25.768     24.276   \n",
      "23      21.570     25.556     27.961     29.645     31.340     32.598   \n",
      "24      27.635     29.302     30.012     28.628     27.244     25.928   \n",
      "25      25.662     26.706     27.239     28.256     28.879     29.806   \n",
      "26      15.639     15.589     19.080     24.708     24.410     25.144   \n",
      "27      14.169     17.858     21.486     24.664     26.428     25.650   \n",
      "28      29.888     28.111     31.026     30.149     29.408     28.794   \n",
      "29      30.957     32.035     33.863     33.854     28.917     22.951   \n",
      "..         ...        ...        ...        ...        ...        ...   \n",
      "127     30.028     29.260     27.473     24.241     23.120     22.890   \n",
      "128     30.247     31.503     32.317     31.943     30.248     30.747   \n",
      "129     32.524     32.886     33.727     33.414     32.399     31.196   \n",
      "130     33.407     32.528     29.543     26.423     24.499     22.183   \n",
      "131     31.924     33.630     34.036     33.077     29.800     27.138   \n",
      "132     30.670     29.181     26.579     24.148     22.272     20.479   \n",
      "133     13.822     14.821     16.820     15.003     14.275     13.727   \n",
      "134     21.977     22.942     23.386     22.899     22.987     22.341   \n",
      "135     26.309     23.927     23.654     22.785     19.318     16.741   \n",
      "136     21.095     19.051     17.724     16.766     17.015     15.948   \n",
      "137     30.777     26.047     25.542     24.075     22.047     20.751   \n",
      "138     29.378     28.490     26.751     25.586     24.497     22.932   \n",
      "139     23.020     22.129     18.371     22.663     24.909     27.123   \n",
      "140     28.192     26.269     22.713     22.604     19.956     20.166   \n",
      "141     31.730     28.529     29.262     30.090     28.585     25.982   \n",
      "142     28.561     28.355     26.895     25.732     24.655     22.276   \n",
      "143     30.337     26.466     22.624     22.460     21.391     19.775   \n",
      "144     10.847     11.090     10.109      8.513      8.369      8.505   \n",
      "145     32.263     29.158     28.083     26.282     25.030     22.141   \n",
      "146     11.178     10.852      8.171      8.220      7.880      7.798   \n",
      "147     14.278     12.714      8.912      7.764      8.362      8.978   \n",
      "148     28.796     25.958     26.705     26.470     23.270     21.452   \n",
      "149     25.894     28.435     21.565     18.772     18.197     18.289   \n",
      "150     21.882     24.531     26.220     26.089     24.381     24.169   \n",
      "151     29.573     37.022     37.326     34.835     34.039     32.239   \n",
      "152     30.854     29.612     30.027     29.947     29.225     28.636   \n",
      "153     26.449     26.192     24.890     22.357     22.354     19.332   \n",
      "154     23.080     19.175     22.807     24.976     26.627     25.992   \n",
      "155     30.826     29.696     28.474     30.937     27.626     25.293   \n",
      "156     26.894     26.037     24.454     24.313     24.652     20.665   \n",
      "\n",
      "     1995-2000  2000-2005  2005-2010  population       abc consume_level  \n",
      "0       27.402     29.415     31.938      33.011    613.99           low  \n",
      "1       28.675     27.477     27.070      26.646    624.04           low  \n",
      "2       22.910     19.901     17.041      15.459    634.25           low  \n",
      "3       19.409     23.985     28.266      25.695    647.28           low  \n",
      "4       30.282     28.818     27.670      27.156    662.40           low  \n",
      "5       28.243     27.032     28.454      26.238    677.87           low  \n",
      "6       31.460     30.230     28.590      27.233    693.71           low  \n",
      "7       25.980     25.849     29.049      29.228    709.91           low  \n",
      "8       11.293      9.345      6.158       3.762    726.49           low  \n",
      "9       32.881     33.582     33.731      29.230    743.46           low  \n",
      "10      27.458     28.812     27.963      27.962    766.75           low  \n",
      "11      15.153     14.600     12.659      11.095    837.07           low  \n",
      "12      24.756     23.349     27.096      26.864    857.36           low  \n",
      "13      11.692     11.832     11.873      10.131    833.61           low  \n",
      "14      33.747     32.602     31.960      30.753    773.70           low  \n",
      "15      27.614     26.341     26.422      25.857    866.19           low  \n",
      "16      31.020     33.384     34.892      34.519    896.86           low  \n",
      "17      26.926     29.196     30.905      30.832   1030.89           low  \n",
      "18      26.636     28.562     30.236      31.519    705.45           low  \n",
      "19      17.094     14.910     18.305      26.251    617.91           low  \n",
      "20      29.669     31.003     33.329      34.051    595.04           low  \n",
      "21      26.955     27.352     27.964      27.435    887.91           low  \n",
      "22      22.600     22.001     22.504      22.637   1261.35           low  \n",
      "23      33.218     32.994     32.301      31.597   1062.01           low  \n",
      "24      25.404     26.303     28.326      28.143   1133.49           low  \n",
      "25      29.263     31.099     32.917      33.139   1209.42           low  \n",
      "26      26.986     27.542     26.957      25.554   1272.01           low  \n",
      "27      23.143     20.982     22.543      24.999   1326.12           low  \n",
      "28      29.405     31.509     31.123      28.921   1382.53           low  \n",
      "29      17.698     14.969     17.020      20.132   1428.08           low  \n",
      "..         ...        ...        ...         ...       ...           ...  \n",
      "127     20.360     15.979     13.646      21.658   3175.71           low  \n",
      "128     29.821     27.904     23.784      18.943   3584.41           low  \n",
      "129     30.301     26.407     22.400      13.880   4138.47           low  \n",
      "130     20.011     18.177     15.721      17.736   3991.80           low  \n",
      "131     23.130     20.685     19.192      15.645   5882.22          high  \n",
      "132     19.471     17.845     16.648      10.240   8513.74          high  \n",
      "133     12.109     11.336     10.643      16.804  11751.60          high  \n",
      "134     21.452     20.209     18.339       8.738  12104.52          high  \n",
      "135     15.166     12.564     10.043       8.485  12770.74          high  \n",
      "136     12.678     10.126      9.296      10.746  16223.39          high  \n",
      "137     18.238     15.794     12.609      15.872  13508.80          high  \n",
      "138     21.477     19.085     17.066      23.530   3611.77           low  \n",
      "139     25.502     24.591     24.796      13.977   4580.22           low  \n",
      "140     19.115     16.798     14.268      16.321   4726.01           low  \n",
      "141     23.384     19.666     17.953      13.902   3767.94           low  \n",
      "142     19.044     17.052     16.623      12.869   4242.31           low  \n",
      "143     17.217     15.513     14.058       4.888   4962.42           low  \n",
      "144      7.424      6.388      5.237      14.169   4633.64           low  \n",
      "145     19.651     17.879     16.093       6.843   4872.97           low  \n",
      "146      6.596      6.105      7.231       6.837   5393.04          high  \n",
      "147      7.512      7.092      8.103      14.062   5845.22          high  \n",
      "148     18.727     16.953     14.725      11.078   6362.13          high  \n",
      "149     16.465     13.379     12.557      20.787   6630.03          high  \n",
      "150     24.889     23.714     22.514      29.447   7367.29          high  \n",
      "151     30.399     29.778     28.943      26.124   7955.97          high  \n",
      "152     27.407     27.279     27.122      12.455   9408.19          high  \n",
      "153     18.457     16.102     13.611      22.676   9611.92          high  \n",
      "154     23.396     22.316     22.326      16.959   9421.94          high  \n",
      "155     23.566     20.624     17.336      10.886   9026.86          high  \n",
      "156     16.682     14.433     12.707      20.825   8575.87          high  \n",
      "\n",
      "[157 rows x 17 columns]\n"
     ]
    }
   ],
   "source": [
    "path = \"./datasets/final.csv\"\n",
    "final = pd.read_csv(path)\n",
    "final.head(10)\n",
    "print(final)\n",
    "##"
   ]
  },
  {
   "cell_type": "code",
   "execution_count": 36,
   "metadata": {},
   "outputs": [
    {
     "name": "stdout",
     "output_type": "stream",
     "text": [
      "+----+------+-----------+------------+\n",
      "|Year|   abc|    Country|ConsumeLevel|\n",
      "+----+------+-----------+------------+\n",
      "|1991|613.99|Afghanistan|         Low|\n",
      "|1996|624.04|Afghanistan|         Low|\n",
      "|2001|634.25|Afghanistan|         Low|\n",
      "|2006|647.28|Afghanistan|         Low|\n",
      "|2011| 662.4|Afghanistan|         Low|\n",
      "|1901|677.87|Afghanistan|         Low|\n",
      "|1906|693.71|Afghanistan|         Low|\n",
      "|1911|709.91|Afghanistan|         Low|\n",
      "|1916|726.49|Afghanistan|         Low|\n",
      "|1921|743.46|Afghanistan|         Low|\n",
      "|1926|766.75|Afghanistan|         Low|\n",
      "|1931|837.07|Afghanistan|         Low|\n",
      "|1936|857.36|Afghanistan|         Low|\n",
      "|1941|833.61|Afghanistan|         Low|\n",
      "|1946| 773.7|Afghanistan|         Low|\n",
      "|1951|866.19|Afghanistan|         Low|\n",
      "|1956|896.86|Afghanistan|         Low|\n",
      "|1966|705.45|Afghanistan|         Low|\n",
      "|1971|617.91|Afghanistan|         Low|\n",
      "|1976|595.04|Afghanistan|         Low|\n",
      "+----+------+-----------+------------+\n",
      "only showing top 20 rows\n",
      "\n"
     ]
    }
   ],
   "source": [
    "from pyspark.sql import functions as F\n",
    "df2 = new_df1.withColumn(\"ConsumeLevel\",\\\n",
    "    F.when(F.col(\"abc\").between(0,5000),\"Low\")\\\n",
    "    .otherwise(\"High\")\\\n",
    ")\n",
    "\n",
    "df2.show()"
   ]
  },
  {
   "cell_type": "code",
   "execution_count": 65,
   "metadata": {},
   "outputs": [
    {
     "name": "stdout",
     "output_type": "stream",
     "text": [
      "     Value_tertiary  Value_elderly  2005-2010       abc consume_level\n",
      "0            29.630          8.424     31.938    613.99           low\n",
      "1            44.375          8.475     27.070    624.04           low\n",
      "2            34.825          8.515     17.041    634.25           low\n",
      "3            39.527          8.512     28.266    647.28           low\n",
      "4            25.102          8.515     27.670    662.40           low\n",
      "5            33.864          8.513     28.454    677.87           low\n",
      "6            30.721          8.538     28.590    693.71           low\n",
      "7            20.384          8.554     29.049    709.91           low\n",
      "8            39.386          8.525      6.158    726.49           low\n",
      "9            30.912          8.520     33.731    743.46           low\n",
      "10           25.633          8.503     27.963    766.75           low\n",
      "11           43.801          8.472     12.659    837.07           low\n",
      "12           41.982          8.444     27.096    857.36           low\n",
      "13           56.507          8.372     11.873    833.61           low\n",
      "14           46.562          8.345     31.960    773.70           low\n",
      "15           56.170          8.344     26.422    866.19           low\n",
      "16           38.504          8.406     34.892    896.86           low\n",
      "17           33.449          8.506     30.905   1030.89           low\n",
      "18           28.124          8.607     30.236    705.45           low\n",
      "19           40.051          8.721     18.305    617.91           low\n",
      "20            9.136          8.928     33.329    595.04           low\n",
      "21            3.599          9.072     27.964    887.91           low\n",
      "22           17.949          9.240     22.504   1261.35           low\n",
      "23            6.131          9.436     32.301   1062.01           low\n",
      "24           17.624          9.617     28.326   1133.49           low\n",
      "25           20.218          9.750     32.917   1209.42           low\n",
      "26           17.257          9.871     26.957   1272.01           low\n",
      "27           26.132          9.977     22.543   1326.12           low\n",
      "28           16.268         10.102     31.123   1382.53           low\n",
      "29           15.903         10.267     17.020   1428.08           low\n",
      "..              ...            ...        ...       ...           ...\n",
      "127          23.125         12.495     13.646   3175.71           low\n",
      "128          15.006         12.636     23.784   3584.41           low\n",
      "129          37.127         12.807     22.400   4138.47           low\n",
      "130           8.898         12.995     15.721   3991.80           low\n",
      "131          24.805         13.146     19.192   5882.22          high\n",
      "132          10.399         13.275     16.648   8513.74          high\n",
      "133          16.151         13.393     10.643  11751.60          high\n",
      "134          24.029         13.492     18.339  12104.52          high\n",
      "135          14.636         13.609     10.043  12770.74          high\n",
      "136          12.700         13.740      9.296  16223.39          high\n",
      "137          15.933         13.845     12.609  13508.80          high\n",
      "138          16.299         13.925     17.066   3611.77           low\n",
      "139          31.308         13.986     24.796   4580.22           low\n",
      "140          19.976         14.048     14.268   4726.01           low\n",
      "141          26.724         14.159     17.953   3767.94           low\n",
      "142          42.231         14.271     16.623   4242.31           low\n",
      "143          29.330         14.260     14.058   4962.42           low\n",
      "144          27.226         14.212      5.237   4633.64           low\n",
      "145          36.850         14.092     16.093   4872.97           low\n",
      "146           9.457         13.820      7.231   5393.04          high\n",
      "147          17.447         13.682      8.103   5845.22          high\n",
      "148           9.385         13.826     14.725   6362.13          high\n",
      "149          12.197         14.083     12.557   6630.03          high\n",
      "150          40.961         14.285     22.514   7367.29          high\n",
      "151          40.028         14.486     28.943   7955.97          high\n",
      "152          42.311         14.715     27.122   9408.19          high\n",
      "153          43.411         14.922     13.611   9611.92          high\n",
      "154          11.043         15.126     22.326   9421.94          high\n",
      "155          14.730         15.310     17.336   9026.86          high\n",
      "156          12.358         15.478     12.707   8575.87          high\n",
      "\n",
      "[157 rows x 5 columns]\n"
     ]
    }
   ],
   "source": [
    "final = final[['Value_tertiary', 'Value_elderly', '2005-2010', 'abc', 'consume_level']]\n",
    "print(final)"
   ]
  },
  {
   "cell_type": "code",
   "execution_count": 62,
   "metadata": {},
   "outputs": [
    {
     "name": "stdout",
     "output_type": "stream",
     "text": [
      "Value_tertiary    0\n",
      "Value_elderly     0\n",
      "2005-2010         0\n",
      "abc               0\n",
      "consume_level     0\n",
      "dtype: int64\n",
      "Value_tertiary    float64\n",
      "Value_elderly     float64\n",
      "2005-2010         float64\n",
      "abc               float64\n",
      "consume_level      object\n",
      "dtype: object\n"
     ]
    }
   ],
   "source": [
    "print(final.isnull().sum())\n",
    "print(final.dtypes)"
   ]
  },
  {
   "cell_type": "code",
   "execution_count": 68,
   "metadata": {},
   "outputs": [
    {
     "name": "stdout",
     "output_type": "stream",
     "text": [
      "root\n",
      " |-- Value_tertiary: double (nullable = true)\n",
      " |-- Value_elderly: double (nullable = true)\n",
      " |-- 2005-2010: double (nullable = true)\n",
      " |-- abc: double (nullable = true)\n",
      " |-- consume_level: string (nullable = true)\n",
      "\n"
     ]
    }
   ],
   "source": [
    "sparkdf = spark.createDataFrame(final)\n",
    "sparkdf.printSchema()\n",
    "final = sparkdf\n"
   ]
  },
  {
   "cell_type": "code",
   "execution_count": 70,
   "metadata": {},
   "outputs": [
    {
     "name": "stdout",
     "output_type": "stream",
     "text": [
      "+------------------+-----------------+------------------+-------+-------------+------------------+\n",
      "|    Value_tertiary|    Value_elderly|         2005-2010|    abc|consume_level|consume_levelIndex|\n",
      "+------------------+-----------------+------------------+-------+-------------+------------------+\n",
      "|             29.63|            8.424|31.938000000000002| 613.99|          low|               0.0|\n",
      "|            44.375|            8.475|             27.07| 624.04|          low|               0.0|\n",
      "|            34.825|            8.515|            17.041| 634.25|          low|               0.0|\n",
      "|            39.527|            8.512|            28.266| 647.28|          low|               0.0|\n",
      "|25.101999999999997|            8.515|             27.67|  662.4|          low|               0.0|\n",
      "|33.864000000000004|            8.513|            28.454| 677.87|          low|               0.0|\n",
      "|            30.721|            8.538|             28.59| 693.71|          low|               0.0|\n",
      "|            20.384|            8.554|            29.049| 709.91|          low|               0.0|\n",
      "|39.385999999999996|            8.525|6.1579999999999995| 726.49|          low|               0.0|\n",
      "|            30.912|             8.52|            33.731| 743.46|          low|               0.0|\n",
      "|25.633000000000003|            8.503|            27.963| 766.75|          low|               0.0|\n",
      "|            43.801|8.472000000000001|            12.659| 837.07|          low|               0.0|\n",
      "|            41.982|8.443999999999999|            27.096| 857.36|          low|               0.0|\n",
      "|            56.507|            8.372|            11.873| 833.61|          low|               0.0|\n",
      "|            46.562|            8.345|             31.96|  773.7|          low|               0.0|\n",
      "|             56.17|            8.344|26.421999999999997| 866.19|          low|               0.0|\n",
      "|            38.504|            8.406|34.891999999999996| 896.86|          low|               0.0|\n",
      "|            33.449|            8.506|            30.905|1030.89|          low|               0.0|\n",
      "|28.124000000000002|8.607000000000001|            30.236| 705.45|          low|               0.0|\n",
      "|            40.051|            8.721|            18.305| 617.91|          low|               0.0|\n",
      "+------------------+-----------------+------------------+-------+-------------+------------------+\n",
      "only showing top 20 rows\n",
      "\n"
     ]
    }
   ],
   "source": [
    "from pyspark.ml.feature import Normalizer, VectorAssembler, StandardScaler, StringIndexer\n",
    "cat_column = [\"consume_level\"]\n",
    "for i in cat_column:\n",
    "    indexer = StringIndexer(inputCol=i, outputCol=i + \"Index\")\n",
    "    model = indexer.fit(final)\n",
    "    new = model.transform(final)\n",
    "    final = new\n",
    "final.show()"
   ]
  },
  {
   "cell_type": "code",
   "execution_count": 73,
   "metadata": {},
   "outputs": [
    {
     "name": "stdout",
     "output_type": "stream",
     "text": [
      "+------------------+-----------------+------------------+-------+------------------+\n",
      "|    Value_tertiary|    Value_elderly|         2005-2010|    abc|consume_levelIndex|\n",
      "+------------------+-----------------+------------------+-------+------------------+\n",
      "|             29.63|            8.424|31.938000000000002| 613.99|               0.0|\n",
      "|            44.375|            8.475|             27.07| 624.04|               0.0|\n",
      "|            34.825|            8.515|            17.041| 634.25|               0.0|\n",
      "|            39.527|            8.512|            28.266| 647.28|               0.0|\n",
      "|25.101999999999997|            8.515|             27.67|  662.4|               0.0|\n",
      "|33.864000000000004|            8.513|            28.454| 677.87|               0.0|\n",
      "|            30.721|            8.538|             28.59| 693.71|               0.0|\n",
      "|            20.384|            8.554|            29.049| 709.91|               0.0|\n",
      "|39.385999999999996|            8.525|6.1579999999999995| 726.49|               0.0|\n",
      "|            30.912|             8.52|            33.731| 743.46|               0.0|\n",
      "|25.633000000000003|            8.503|            27.963| 766.75|               0.0|\n",
      "|            43.801|8.472000000000001|            12.659| 837.07|               0.0|\n",
      "|            41.982|8.443999999999999|            27.096| 857.36|               0.0|\n",
      "|            56.507|            8.372|            11.873| 833.61|               0.0|\n",
      "|            46.562|            8.345|             31.96|  773.7|               0.0|\n",
      "|             56.17|            8.344|26.421999999999997| 866.19|               0.0|\n",
      "|            38.504|            8.406|34.891999999999996| 896.86|               0.0|\n",
      "|            33.449|            8.506|            30.905|1030.89|               0.0|\n",
      "|28.124000000000002|8.607000000000001|            30.236| 705.45|               0.0|\n",
      "|            40.051|            8.721|            18.305| 617.91|               0.0|\n",
      "+------------------+-----------------+------------------+-------+------------------+\n",
      "only showing top 20 rows\n",
      "\n"
     ]
    }
   ],
   "source": [
    "new_df = final.drop(*[\"consume_level\"])\n",
    "new_df.show()"
   ]
  },
  {
   "cell_type": "code",
   "execution_count": 80,
   "metadata": {},
   "outputs": [
    {
     "name": "stdout",
     "output_type": "stream",
     "text": [
      "+--------------------+------------------+\n",
      "|            features|         2005-2010|\n",
      "+--------------------+------------------+\n",
      "|[29.63,8.424,31.9...|31.938000000000002|\n",
      "|[44.375,8.475,27....|             27.07|\n",
      "|[34.825,8.515,17....|            17.041|\n",
      "|[39.527,8.512,28....|            28.266|\n",
      "|[25.1019999999999...|             27.67|\n",
      "|[33.8640000000000...|            28.454|\n",
      "|[30.721,8.538,28....|             28.59|\n",
      "|[20.384,8.554,29....|            29.049|\n",
      "|[39.3859999999999...|6.1579999999999995|\n",
      "|[30.912,8.52,33.7...|            33.731|\n",
      "|[25.6330000000000...|            27.963|\n",
      "|[43.801,8.4720000...|            12.659|\n",
      "|[41.982,8.4439999...|            27.096|\n",
      "|[56.507,8.372,11....|            11.873|\n",
      "|[46.562,8.345,31....|             31.96|\n",
      "|[56.17,8.344,26.4...|26.421999999999997|\n",
      "|[38.504,8.406,34....|34.891999999999996|\n",
      "|[33.449,8.506,30....|            30.905|\n",
      "|[28.1240000000000...|            30.236|\n",
      "|[40.051,8.721,18....|            18.305|\n",
      "+--------------------+------------------+\n",
      "only showing top 20 rows\n",
      "\n"
     ]
    }
   ],
   "source": [
    "from pyspark.ml.feature import RFormula\n",
    "f = RFormula(formula= \"P~.\",featuresCol=\"features\",labelCol=\"2005-2010\")\n",
    "output = f.fit(new_df).transform(new_df)\n",
    "feature_selection = output.select(\"features\",\"2005-2010\")\n",
    "feature_selection.show()"
   ]
  },
  {
   "cell_type": "code",
   "execution_count": 93,
   "metadata": {},
   "outputs": [],
   "source": [
    "train_data,test_data = feature_selection.randomSplit([0.7,0.3])"
   ]
  },
  {
   "cell_type": "code",
   "execution_count": null,
   "metadata": {},
   "outputs": [],
   "source": []
  },
  {
   "cell_type": "code",
   "execution_count": 83,
   "metadata": {},
   "outputs": [
    {
     "name": "stdout",
     "output_type": "stream",
     "text": [
      "+-------+-----------------+\n",
      "|summary|        2005-2010|\n",
      "+-------+-----------------+\n",
      "|  count|              114|\n",
      "|   mean|17.21661403508772|\n",
      "| stddev|9.353838921821165|\n",
      "|    min|           -0.095|\n",
      "|    max|           38.015|\n",
      "+-------+-----------------+\n",
      "\n",
      "+-------+------------------+\n",
      "|summary|         2005-2010|\n",
      "+-------+------------------+\n",
      "|  count|                43|\n",
      "|   mean|19.878906976744187|\n",
      "| stddev| 7.643894435037536|\n",
      "|    min|             5.852|\n",
      "|    max|            33.731|\n",
      "+-------+------------------+\n",
      "\n"
     ]
    }
   ],
   "source": [
    "# Let's see our training data.\n",
    "train_data.describe().show()\n",
    "\n",
    "# And our testing data.\n",
    "test_data.describe().show()"
   ]
  },
  {
   "cell_type": "code",
   "execution_count": 84,
   "metadata": {},
   "outputs": [],
   "source": [
    "from pyspark.ml.regression import LinearRegression\n",
    "lr = LinearRegression(labelCol='2005-2010')"
   ]
  },
  {
   "cell_type": "code",
   "execution_count": 85,
   "metadata": {},
   "outputs": [],
   "source": [
    "lrModel = lr.fit(train_data)"
   ]
  },
  {
   "cell_type": "code",
   "execution_count": 87,
   "metadata": {},
   "outputs": [
    {
     "name": "stdout",
     "output_type": "stream",
     "text": [
      "Intercept: -1.678113446980762e-14\n",
      "Value_tertiary:  -2.847341269373816e-17\n",
      "Value_elderly:  7.792794256995047e-16\n",
      "abc:  1.0000000000000004\n",
      "consume_levelIndex:  -1.209152481254763e-20\n"
     ]
    }
   ],
   "source": [
    "coefficients = lrModel.coefficients\n",
    "cof_col = new_df.drop(*[\"2005-2010\"]).columns\n",
    "print(\"Intercept: \" + str(lrModel.intercept))\n",
    "for i in range(len(cof_col)):\n",
    "    print(cof_col[i] + \":  \" +str(coefficients[i]))"
   ]
  },
  {
   "cell_type": "code",
   "execution_count": 88,
   "metadata": {},
   "outputs": [],
   "source": [
    "test_results = lrModel.evaluate(test_data)"
   ]
  },
  {
   "cell_type": "code",
   "execution_count": 89,
   "metadata": {},
   "outputs": [
    {
     "name": "stdout",
     "output_type": "stream",
     "text": [
      "+--------------------+\n",
      "|           residuals|\n",
      "+--------------------+\n",
      "|-7.10542735760100...|\n",
      "|-1.77635683940025...|\n",
      "|                 0.0|\n",
      "|1.776356839400250...|\n",
      "|1.776356839400250...|\n",
      "|                 0.0|\n",
      "|-3.55271367880050...|\n",
      "|3.552713678800501...|\n",
      "|-3.55271367880050...|\n",
      "|                 0.0|\n",
      "|-3.55271367880050...|\n",
      "|                 0.0|\n",
      "|-3.55271367880050...|\n",
      "|-1.42108547152020...|\n",
      "|5.329070518200751...|\n",
      "|1.776356839400250...|\n",
      "|                 0.0|\n",
      "|-3.55271367880050...|\n",
      "|                 0.0|\n",
      "|                 0.0|\n",
      "+--------------------+\n",
      "only showing top 20 rows\n",
      "\n",
      "RSME: 3.756030921297535e-15\n"
     ]
    }
   ],
   "source": [
    "# Interesting results! This shows the difference between the predicted value and the test data.\n",
    "test_results.residuals.show()\n",
    "# Let's get some evaluation metrics (as discussed in the previous linear regression notebook).\n",
    "print(\"RSME: {}\".format(test_results.rootMeanSquaredError))"
   ]
  },
  {
   "cell_type": "code",
   "execution_count": 90,
   "metadata": {},
   "outputs": [
    {
     "name": "stdout",
     "output_type": "stream",
     "text": [
      "RootMeanSquaredError: 3.756030921297535e-15\n",
      "MeanSquaredError: 1.4107768281743212e-29\n",
      "R2: 1.0\n"
     ]
    }
   ],
   "source": [
    "print(\"RootMeanSquaredError: \" + str(test_results.rootMeanSquaredError))\n",
    "print(\"MeanSquaredError: \" + str(test_results.meanSquaredError))\n",
    "print(\"R2: \" + str(test_results.r2))"
   ]
  },
  {
   "cell_type": "code",
   "execution_count": 96,
   "metadata": {},
   "outputs": [
    {
     "name": "stdout",
     "output_type": "stream",
     "text": [
      "+------------------+-----------------+------------------+-------+\n",
      "|    Value_tertiary|    Value_elderly|         2005-2010|    abc|\n",
      "+------------------+-----------------+------------------+-------+\n",
      "|             29.63|            8.424|31.938000000000002| 613.99|\n",
      "|            44.375|            8.475|             27.07| 624.04|\n",
      "|            34.825|            8.515|            17.041| 634.25|\n",
      "|            39.527|            8.512|            28.266| 647.28|\n",
      "|25.101999999999997|            8.515|             27.67|  662.4|\n",
      "|33.864000000000004|            8.513|            28.454| 677.87|\n",
      "|            30.721|            8.538|             28.59| 693.71|\n",
      "|            20.384|            8.554|            29.049| 709.91|\n",
      "|39.385999999999996|            8.525|6.1579999999999995| 726.49|\n",
      "|            30.912|             8.52|            33.731| 743.46|\n",
      "|25.633000000000003|            8.503|            27.963| 766.75|\n",
      "|            43.801|8.472000000000001|            12.659| 837.07|\n",
      "|            41.982|8.443999999999999|            27.096| 857.36|\n",
      "|            56.507|            8.372|            11.873| 833.61|\n",
      "|            46.562|            8.345|             31.96|  773.7|\n",
      "|             56.17|            8.344|26.421999999999997| 866.19|\n",
      "|            38.504|            8.406|34.891999999999996| 896.86|\n",
      "|            33.449|            8.506|            30.905|1030.89|\n",
      "|28.124000000000002|8.607000000000001|            30.236| 705.45|\n",
      "|            40.051|            8.721|            18.305| 617.91|\n",
      "+------------------+-----------------+------------------+-------+\n",
      "only showing top 20 rows\n",
      "\n"
     ]
    }
   ],
   "source": [
    "\n",
    "final = final.drop(*[\"consume_level\",\"consume_levelIndex\"])\n",
    "final.show()"
   ]
  },
  {
   "cell_type": "code",
   "execution_count": 97,
   "metadata": {},
   "outputs": [
    {
     "name": "stdout",
     "output_type": "stream",
     "text": [
      "+--------------------+------------------+\n",
      "|            features|         2005-2010|\n",
      "+--------------------+------------------+\n",
      "|[29.63,8.424,31.9...|31.938000000000002|\n",
      "|[44.375,8.475,27....|             27.07|\n",
      "|[34.825,8.515,17....|            17.041|\n",
      "|[39.527,8.512,28....|            28.266|\n",
      "|[25.1019999999999...|             27.67|\n",
      "|[33.8640000000000...|            28.454|\n",
      "|[30.721,8.538,28....|             28.59|\n",
      "|[20.384,8.554,29....|            29.049|\n",
      "|[39.3859999999999...|6.1579999999999995|\n",
      "|[30.912,8.52,33.7...|            33.731|\n",
      "|[25.6330000000000...|            27.963|\n",
      "|[43.801,8.4720000...|            12.659|\n",
      "|[41.982,8.4439999...|            27.096|\n",
      "|[56.507,8.372,11....|            11.873|\n",
      "|[46.562,8.345,31....|             31.96|\n",
      "|[56.17,8.344,26.4...|26.421999999999997|\n",
      "|[38.504,8.406,34....|34.891999999999996|\n",
      "|[33.449,8.506,30....|            30.905|\n",
      "|[28.1240000000000...|            30.236|\n",
      "|[40.051,8.721,18....|            18.305|\n",
      "+--------------------+------------------+\n",
      "only showing top 20 rows\n",
      "\n"
     ]
    }
   ],
   "source": [
    "from pyspark.ml.feature import RFormula\n",
    "f = RFormula(formula= \"P~.\",featuresCol=\"features\",labelCol=\"2005-2010\")\n",
    "output = f.fit(final).transform(final)\n",
    "feature_selection = output.select(\"features\",\"2005-2010\")\n",
    "feature_selection.show()"
   ]
  },
  {
   "cell_type": "code",
   "execution_count": 98,
   "metadata": {},
   "outputs": [
    {
     "name": "stdout",
     "output_type": "stream",
     "text": [
      "Intercept: -1.678113446980762e-14\n",
      "Value_tertiary:  -2.847341269373816e-17\n",
      "Value_elderly:  7.792794256995047e-16\n",
      "abc:  1.0000000000000004\n",
      "consume_levelIndex:  -1.209152481254763e-20\n"
     ]
    }
   ],
   "source": [
    "train_data,test_data = feature_selection.randomSplit([0.7,0.3])\n",
    "lr = LinearRegression(labelCol='2005-2010')\n",
    "coefficients = lrModel.coefficients\n",
    "cof_col = new_df.drop(*[\"2005-2010\"]).columns\n",
    "print(\"Intercept: \" + str(lrModel.intercept))\n",
    "for i in range(len(cof_col)):\n",
    "    print(cof_col[i] + \":  \" +str(coefficients[i]))"
   ]
  }
 ],
 "metadata": {
  "kernelspec": {
   "display_name": "Python 3",
   "language": "python",
   "name": "python3"
  },
  "language_info": {
   "codemirror_mode": {
    "name": "ipython",
    "version": 3
   },
   "file_extension": ".py",
   "mimetype": "text/x-python",
   "name": "python",
   "nbconvert_exporter": "python",
   "pygments_lexer": "ipython3",
   "version": "3.5.2"
  }
 },
 "nbformat": 4,
 "nbformat_minor": 2
}
